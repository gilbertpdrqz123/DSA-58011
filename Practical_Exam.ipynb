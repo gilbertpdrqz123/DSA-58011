{
  "nbformat": 4,
  "nbformat_minor": 0,
  "metadata": {
    "colab": {
      "name": "Practical Exam.ipynb",
      "provenance": [],
      "authorship_tag": "ABX9TyOJxl+8fKbV67b3BgtFeeZI",
      "include_colab_link": true
    },
    "kernelspec": {
      "name": "python3",
      "display_name": "Python 3"
    },
    "language_info": {
      "name": "python"
    }
  },
  "cells": [
    {
      "cell_type": "markdown",
      "metadata": {
        "id": "view-in-github",
        "colab_type": "text"
      },
      "source": [
        "<a href=\"https://colab.research.google.com/github/gilbertpdrqz123/DSA-58011/blob/main/Practical_Exam.ipynb\" target=\"_parent\"><img src=\"https://colab.research.google.com/assets/colab-badge.svg\" alt=\"Open In Colab\"/></a>"
      ]
    },
    {
      "cell_type": "code",
      "execution_count": 6,
      "metadata": {
        "colab": {
          "base_uri": "https://localhost:8080/"
        },
        "id": "I9paiq4veJVL",
        "outputId": "ad9c16dd-c60a-46fa-a690-47c48c7bd94e"
      },
      "outputs": [
        {
          "output_type": "stream",
          "name": "stdout",
          "text": [
            "The total grade is is 21\n"
          ]
        }
      ],
      "source": [
        "class Grade:\n",
        "    def __init__(self, num1, num2, num3, num4, num5, num6):\n",
        "      self.num1 = 1\n",
        "      self.num2 = 2\n",
        "      self.num3 = 3\n",
        "      self.num4 = 4\n",
        "      self.num5 = 5\n",
        "      self.num6 = 6\n",
        "\n",
        "    def Total(self):\n",
        "      return self.num1 + self.num2 + self.num3 + self.num4 + self.num5 +self.num6\n",
        "            \n",
        "\n",
        "    def display(self):\n",
        "      print(\"The total grade is is\", self.Total())\n",
        "\n",
        "\n",
        "grd = Grade(26,49,98,87,62,75)\n",
        "grd.display()"
      ]
    }
  ]
}