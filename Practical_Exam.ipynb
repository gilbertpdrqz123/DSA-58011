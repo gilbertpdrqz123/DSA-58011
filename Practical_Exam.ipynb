{
  "nbformat": 4,
  "nbformat_minor": 0,
  "metadata": {
    "colab": {
      "name": "Practical Exam.ipynb",
      "provenance": [],
      "authorship_tag": "ABX9TyOeBmJ4jWHqSvtR4r+OlNCR",
      "include_colab_link": true
    },
    "kernelspec": {
      "name": "python3",
      "display_name": "Python 3"
    },
    "language_info": {
      "name": "python"
    }
  },
  "cells": [
    {
      "cell_type": "markdown",
      "metadata": {
        "id": "view-in-github",
        "colab_type": "text"
      },
      "source": [
        "<a href=\"https://colab.research.google.com/github/gilbertpdrqz123/DSA-58011/blob/main/Practical_Exam.ipynb\" target=\"_parent\"><img src=\"https://colab.research.google.com/assets/colab-badge.svg\" alt=\"Open In Colab\"/></a>"
      ]
    },
    {
      "cell_type": "code",
      "execution_count": 11,
      "metadata": {
        "colab": {
          "base_uri": "https://localhost:8080/"
        },
        "id": "I9paiq4veJVL",
        "outputId": "52614828-fcd5-4c3d-a2cd-171afcf6b488"
      },
      "outputs": [
        {
          "output_type": "stream",
          "name": "stdout",
          "text": [
            "The total grade is is 397\n"
          ]
        }
      ],
      "source": [
        "class Grade:\n",
        "    def __init__(self, num1, num2, num3, num4, num5, num6):\n",
        "      self.num1 = num1\n",
        "      self.num2 = num2\n",
        "      self.num3 = num3\n",
        "      self.num4 = num4\n",
        "      self.num5 = num5\n",
        "      self.num6 = num6\n",
        "\n",
        "    def Total(self):\n",
        "      return self.num1 + self.num2 + self.num3 + self.num4 + self.num5 + self.num6\n",
        "            \n",
        "\n",
        "    def display(self):\n",
        "      print(\"The total grade is is\", self.Total())\n",
        "\n",
        "\n",
        "grd = Grade(26, 49, 98, 87, 62, 75)\n",
        "grd.display()"
      ]
    }
  ]
}