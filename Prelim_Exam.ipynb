{
  "nbformat": 4,
  "nbformat_minor": 0,
  "metadata": {
    "colab": {
      "provenance": [],
      "authorship_tag": "ABX9TyNg4kblxFfEzdarT6fiSLXT",
      "include_colab_link": true
    },
    "kernelspec": {
      "name": "python3",
      "display_name": "Python 3"
    },
    "language_info": {
      "name": "python"
    }
  },
  "cells": [
    {
      "cell_type": "markdown",
      "metadata": {
        "id": "view-in-github",
        "colab_type": "text"
      },
      "source": [
        "<a href=\"https://colab.research.google.com/github/gilbertpdrqz123/DSA-58011/blob/main/Prelim_Exam.ipynb\" target=\"_parent\"><img src=\"https://colab.research.google.com/assets/colab-badge.svg\" alt=\"Open In Colab\"/></a>"
      ]
    },
    {
      "cell_type": "code",
      "execution_count": 23,
      "metadata": {
        "colab": {
          "base_uri": "https://localhost:8080/"
        },
        "id": "tREzL8EPuIzf",
        "outputId": "4b36a153-9b23-4ede-d74b-36f5afacc2d9"
      },
      "outputs": [
        {
          "output_type": "stream",
          "name": "stdout",
          "text": [
            "[1, 2, 3, 5, 7, 4, 6, 8, 9, 10]\n",
            "The composite numbers are: 4 [6] [8] [9] [10]\n"
          ]
        }
      ],
      "source": [
        "intiger = [1, 2, 3 ,5, 7]\n",
        "intiger.append(4)\n",
        "intiger.append(6)\n",
        "intiger.append(8)\n",
        "intiger.append(9)\n",
        "intiger.append(10)\n",
        "print(intiger)\n",
        "print(\"The composite numbers are:\", intiger [5], [6], [8], [9], [10])\n",
        "\n"
      ]
    }
  ]
}