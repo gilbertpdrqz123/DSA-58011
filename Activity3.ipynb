{
  "nbformat": 4,
  "nbformat_minor": 0,
  "metadata": {
    "colab": {
      "provenance": [],
      "collapsed_sections": [],
      "authorship_tag": "ABX9TyOC0XD7wy2ROafj2Dco3/E7",
      "include_colab_link": true
    },
    "kernelspec": {
      "name": "python3",
      "display_name": "Python 3"
    },
    "language_info": {
      "name": "python"
    }
  },
  "cells": [
    {
      "cell_type": "markdown",
      "metadata": {
        "id": "view-in-github",
        "colab_type": "text"
      },
      "source": [
        "<a href=\"https://colab.research.google.com/github/gilbertpdrqz123/DSA-58011/blob/main/Activity3.ipynb\" target=\"_parent\"><img src=\"https://colab.research.google.com/assets/colab-badge.svg\" alt=\"Open In Colab\"/></a>"
      ]
    },
    {
      "cell_type": "code",
      "execution_count": 26,
      "metadata": {
        "colab": {
          "base_uri": "https://localhost:8080/"
        },
        "id": "FuuWwqAxeTnJ",
        "outputId": "5baef9fc-dd2f-4bf3-c6a5-cd06be9c9d26"
      },
      "outputs": [
        {
          "output_type": "stream",
          "name": "stdout",
          "text": [
            "Pushed Element: 1\n",
            "Pushed Element: 2\n",
            "Pushed Element: 3\n",
            "Pushed Element: 4\n",
            "Pushed Element: 5\n",
            "The elements in the stack are:['1', '2', '3', '4', '5']\n",
            "The Remaining Values when  pop 3 elements from the top of the stack:  ['4', '5']\n",
            "The length of the remaining stack is  :  2\n"
          ]
        }
      ],
      "source": [
        "# Creating a stack\n",
        "\n",
        "def create_stack():\n",
        "\n",
        "    stack = []\n",
        "\n",
        "    return stack\n",
        "\n",
        "\n",
        "\n",
        "\n",
        "\n",
        "# Creating an empty stack\n",
        "\n",
        "def is_empty(stack):\n",
        "\n",
        "    return len(stack) == 0\n",
        "\n",
        "\n",
        "\n",
        "\n",
        "\n",
        "# Adding items into the stack\n",
        "\n",
        "def push(stack, item):\n",
        "\n",
        "    stack.append(item)\n",
        "\n",
        "    print(\"Pushed Element: \" + item)\n",
        "\n",
        "\n",
        "\n",
        "\n",
        "\n",
        "# Removing an element from the stack\n",
        "\n",
        "def pop(stack):\n",
        "\n",
        "    if (is_empty(stack)):\n",
        "\n",
        "        return \"The stack is empty\"\n",
        "\n",
        "    return stack.pop()\n",
        "\n",
        "\n",
        "\n",
        "\n",
        "\n",
        "stack = create_stack()\n",
        "\n",
        "push(stack, str(1))\n",
        "\n",
        "push(stack, str(2))\n",
        "\n",
        "push(stack, str(3))\n",
        "\n",
        "push(stack, str(4))\n",
        "\n",
        "push(stack, str(5))\n",
        "\n",
        "\n",
        "\n",
        "print(\"The elements in the stack are:\"+ str(stack))\n",
        "\n",
        "(stack.pop(0)) \n",
        "(stack.pop(1)) \n",
        "(stack.pop(0)) \n",
        "print(\"The Remaining Values when  pop 3 elements from the top of the stack: \", stack) \n",
        "print(\"The length of the remaining stack is  : \", len(stack))"
      ]
    }
  ]
}