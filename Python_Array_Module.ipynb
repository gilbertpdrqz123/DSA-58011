{
  "nbformat": 4,
  "nbformat_minor": 0,
  "metadata": {
    "colab": {
      "provenance": [],
      "authorship_tag": "ABX9TyN53cJOEUzCxkBDzUbB6+Ku",
      "include_colab_link": true
    },
    "kernelspec": {
      "name": "python3",
      "display_name": "Python 3"
    },
    "language_info": {
      "name": "python"
    }
  },
  "cells": [
    {
      "cell_type": "markdown",
      "metadata": {
        "id": "view-in-github",
        "colab_type": "text"
      },
      "source": [
        "<a href=\"https://colab.research.google.com/github/gilbertpdrqz123/DSA-58011/blob/main/Python_Array_Module.ipynb\" target=\"_parent\"><img src=\"https://colab.research.google.com/assets/colab-badge.svg\" alt=\"Open In Colab\"/></a>"
      ]
    },
    {
      "cell_type": "markdown",
      "source": [
        "Example 1"
      ],
      "metadata": {
        "id": "rv9cdjRmaeTD"
      }
    },
    {
      "cell_type": "code",
      "source": [
        "import array as arr\n",
        "arr.typecodes\n",
        "a= arr.array('i',[1,2,3,4,5,6])\n",
        "b=arr.array('f',[1.5,2.5,3.5,4.5,5.5,6.5,7.5,8.5,9.5])\n",
        "print(a.typecode)\n",
        "print(b.typecode)"
      ],
      "metadata": {
        "colab": {
          "base_uri": "https://localhost:8080/"
        },
        "id": "zou6FccRalQ6",
        "outputId": "529d0129-094c-4b88-b3b1-3bfdec88aaca"
      },
      "execution_count": 1,
      "outputs": [
        {
          "output_type": "stream",
          "name": "stdout",
          "text": [
            "i\n",
            "f\n"
          ]
        }
      ]
    },
    {
      "cell_type": "markdown",
      "source": [
        "Example 2 Create array elements of array naem a to float/decimal numbers"
      ],
      "metadata": {
        "id": "9ddJ4SjZarfr"
      }
    },
    {
      "cell_type": "code",
      "source": [
        "a = arr.array('f',[1,2,3,4,5,6,7,8,9,10])\n",
        "print (a)"
      ],
      "metadata": {
        "colab": {
          "base_uri": "https://localhost:8080/"
        },
        "id": "jVdhcc1Oatuk",
        "outputId": "1132a6ea-481f-4ab1-d645-d9652ccd0d12"
      },
      "execution_count": 2,
      "outputs": [
        {
          "output_type": "stream",
          "name": "stdout",
          "text": [
            "array('f', [1.0, 2.0, 3.0, 4.0, 5.0, 6.0, 7.0, 8.0, 9.0, 10.0])\n"
          ]
        }
      ]
    },
    {
      "cell_type": "markdown",
      "source": [
        "Insert an element:11 to the first index of the array a"
      ],
      "metadata": {
        "id": "joo6uTGFawvj"
      }
    },
    {
      "cell_type": "code",
      "source": [
        "a.insert(0,11)\n",
        "print(a)\n",
        "\n",
        "b[-1]=12\n",
        "print(b)"
      ],
      "metadata": {
        "colab": {
          "base_uri": "https://localhost:8080/"
        },
        "id": "MkJeUbyMaypy",
        "outputId": "b6b4d14a-50ff-45a9-f3bb-8e7cf3f69651"
      },
      "execution_count": 3,
      "outputs": [
        {
          "output_type": "stream",
          "name": "stdout",
          "text": [
            "array('f', [11.0, 1.0, 2.0, 3.0, 4.0, 5.0, 6.0, 7.0, 8.0, 9.0, 10.0])\n",
            "array('f', [1.5, 2.5, 3.5, 4.5, 5.5, 6.5, 7.5, 8.5, 12.0])\n"
          ]
        }
      ]
    },
    {
      "cell_type": "code",
      "source": [
        "a = arr.array('i',[1,2,3,4,5,6,7,8,9,10])\n",
        "print(a)\n",
        "a.insert(9,-1)\n",
        "print(a)"
      ],
      "metadata": {
        "colab": {
          "base_uri": "https://localhost:8080/"
        },
        "id": "UeDcXYRVbA9D",
        "outputId": "902be46c-5d1d-47ef-bb51-c0df8c4001be"
      },
      "execution_count": 4,
      "outputs": [
        {
          "output_type": "stream",
          "name": "stdout",
          "text": [
            "array('i', [1, 2, 3, 4, 5, 6, 7, 8, 9, 10])\n",
            "array('i', [1, 2, 3, 4, 5, 6, 7, 8, 9, -1, 10])\n"
          ]
        }
      ]
    },
    {
      "cell_type": "markdown",
      "source": [
        "Linked List"
      ],
      "metadata": {
        "id": "TCtMBXC8bFpi"
      }
    },
    {
      "cell_type": "code",
      "source": [
        "class Node:\n",
        "  def __init__(self,data):\n",
        "    self.data = data\n",
        "    self.next = None\n",
        "\n",
        "class LinkedList:\n",
        "  def __init__(self):\n",
        "    self.head = None\n",
        "  def printList(self):\n",
        "    temp = self.head\n",
        "    while(temp):\n",
        "      print(temp.data)\n",
        "      temp = temp.next\n",
        "\n",
        "\n",
        "llist = LinkedList()\n",
        "\n",
        "llist.head = Node(1)\n",
        "second = Node(2)\n",
        "third = Node(3)\n",
        "\n",
        "llist.head.next = second\n",
        "second.next = third\n",
        "\n",
        "llist.printList()"
      ],
      "metadata": {
        "colab": {
          "base_uri": "https://localhost:8080/"
        },
        "id": "jBmNYnFtbI8r",
        "outputId": "f218c482-fd7b-4c5c-981b-5f61b6fcfb9c"
      },
      "execution_count": 5,
      "outputs": [
        {
          "output_type": "stream",
          "name": "stdout",
          "text": [
            "1\n",
            "2\n",
            "3\n"
          ]
        }
      ]
    }
  ]
}