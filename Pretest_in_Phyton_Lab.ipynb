{
  "nbformat": 4,
  "nbformat_minor": 0,
  "metadata": {
    "colab": {
      "name": "Pretest in Phyton Lab",
      "provenance": [],
      "collapsed_sections": [],
      "authorship_tag": "ABX9TyOxF8NPIIbbbMPWIkpZ4L7E",
      "include_colab_link": true
    },
    "kernelspec": {
      "name": "python3",
      "display_name": "Python 3"
    },
    "language_info": {
      "name": "python"
    }
  },
  "cells": [
    {
      "cell_type": "markdown",
      "metadata": {
        "id": "view-in-github",
        "colab_type": "text"
      },
      "source": [
        "<a href=\"https://colab.research.google.com/github/gilbertpdrqz123/DSA-58011/blob/main/Pretest_in_Phyton_Lab.ipynb\" target=\"_parent\"><img src=\"https://colab.research.google.com/assets/colab-badge.svg\" alt=\"Open In Colab\"/></a>"
      ]
    },
    {
      "cell_type": "code",
      "source": [
        "class Rectangle:\n",
        "  def __init__(self, length, width):\n",
        "    self.length = length\n",
        "    self.width = width\n",
        "  \n",
        "  def area(self):\n",
        "    print(self.length * self.width)\n",
        "class Perimeter(Rectangle):\n",
        "  def area(self):\n",
        "    return 2*(self.length + self.width)\n",
        "   \n",
        "\n",
        "\n",
        "rect = Rectangle(7, 3)\n",
        "per = Perimeter(7,3)\n",
        "rect.area()\n",
        "per.area()\n",
        "\n"
      ],
      "metadata": {
        "colab": {
          "base_uri": "https://localhost:8080/"
        },
        "id": "-G1zlXveb-7L",
        "outputId": "f3caa3ac-c9eb-4b35-e3f3-487f24cf1fda"
      },
      "execution_count": 50,
      "outputs": [
        {
          "output_type": "stream",
          "name": "stdout",
          "text": [
            "21\n"
          ]
        },
        {
          "output_type": "execute_result",
          "data": {
            "text/plain": [
              "20"
            ]
          },
          "metadata": {},
          "execution_count": 50
        }
      ]
    }
  ]
}